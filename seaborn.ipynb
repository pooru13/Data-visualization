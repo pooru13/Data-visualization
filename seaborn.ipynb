{
 "cells": [
  {
   "cell_type": "code",
   "execution_count": 1,
   "id": "eb0e56d2-ba3f-4b15-acea-6f91de9d7602",
   "metadata": {},
   "outputs": [],
   "source": [
    "# line plot\n",
    "import seaborn as sns\n",
    "import pandas as pd\n",
    "import matplotlib.pyplot as plt\n",
    "# data = {\"Days\":[1,2,3,4,5],\n",
    "#         \"NOP\":[50,40,56,34,76]}\n",
    "# df = pd.DataFrame(data)\n",
    "# print(df)\n",
    "# sns.lineplot(data = data, x = \"Days\",y=\"NOP\")\n",
    "data = pd.read_excel(\"ESD.xlsx\")\n",
    "color = sns.color_palette(\"GnBu\")\n",
    "# print(data)\n",
    "# sns.lineplot(data = data, x = \"Business Unit\", y = \"Age\",hue = \"Ethnicity\")\n",
    "\n",
    "# plt.show()\n"
   ]
  },
  {
   "cell_type": "code",
   "execution_count": 11,
   "id": "0b02aba9-37f3-4ecc-88fd-d80f0159c05d",
   "metadata": {},
   "outputs": [],
   "source": [
    "# count plot \n",
    "import pandas as pd\n",
    "import matplotlib.pyplot as plt\n",
    "import seaborn as sns\n",
    "data = sns.load_dataset(\"tips\")\n",
    "# print(data)\n",
    "# sns.countplot(data = data, x = \"day\")\n",
    "df = pd.read_excel(\"ESD.xlsx\")\n",
    "# print(df)\n",
    "# sns.countplot(data= df, x = \"Department\",hue =\"Gender\")\n",
    "\n",
    "# plt.show()"
   ]
  },
  {
   "cell_type": "code",
   "execution_count": 19,
   "id": "8f0eb9b2-5da3-40f1-8d7b-a5c5fb02a3de",
   "metadata": {},
   "outputs": [],
   "source": [
    "#violin plot\n",
    "import pandas as pd\n",
    "import matplotlib.pyplot as plt\n",
    "import seaborn as sns\n",
    "data = sns.load_dataset(\"tips\")\n",
    "# sns.violinplot(data = data, x = \"tip\")\n",
    "# plt.show()"
   ]
  },
  {
   "cell_type": "code",
   "execution_count": 27,
   "id": "81cd13b0-eb02-42a8-a33b-02ead3b47a27",
   "metadata": {},
   "outputs": [],
   "source": [
    "# pair plot \n",
    "import pandas as pd\n",
    "import matplotlib.pyplot as plt\n",
    "import seaborn as sns\n",
    "data = sns.load_dataset(\"tips\")\n",
    "# sns.pairplot(data,hue = \"day\",palette = \"spring\")\n",
    "# plt.show()"
   ]
  },
  {
   "cell_type": "code",
   "execution_count": 31,
   "id": "d9a2f3ac-ab2e-45e9-850c-167d12423698",
   "metadata": {},
   "outputs": [],
   "source": [
    "# strip plot \n",
    "import pandas as pd\n",
    "import matplotlib.pyplot as plt\n",
    "import seaborn as sns\n",
    "data = sns.load_dataset(\"tips\")\n",
    "# sns.stripplot(data = data, x = \"day\",y = \"total_bill\",hue = \"sex\", dodge = True,jitter = 0.3)\n",
    "# plt.show()"
   ]
  },
  {
   "cell_type": "code",
   "execution_count": 36,
   "id": "271c0f52-017c-43ef-9767-04ae0a212b7f",
   "metadata": {},
   "outputs": [],
   "source": [
    "# box plot\n",
    "import matplotlib.pyplot as plt\n",
    "import pandas as pd\n",
    "import seaborn as sns\n",
    "data = sns.load_dataset(\"tips\")\n",
    "# sns.boxplot(data = data, y = \"tip\", hue = \"sex\" , orient = \"vertical\", palette = \"spring\")\n",
    "# plt.show()"
   ]
  },
  {
   "cell_type": "code",
   "execution_count": 1,
   "id": "e15bb164-9e96-420c-a6ce-d0553008ff7a",
   "metadata": {},
   "outputs": [],
   "source": [
    "# bar plot in seaborn\n",
    "import seaborn as sns\n",
    "import matplotlib.pyplot as plt\n",
    "data = sns.load_dataset(\"tips\")\n",
    "# sns.barplot(data = data, x = \"day\",y= \"tip\",estimator = \"median\",hue=\"sex\",palette = \"GnBu\",order = [\"Sun\",\"Sat\",\"Fri\",\"Thrus\"],errorbar = [\"ci\",0])\n",
    "# plt.show()\n",
    "# print(data)"
   ]
  },
  {
   "cell_type": "code",
   "execution_count": 5,
   "id": "755c01ac-b551-422c-bed0-2b8b6a69b35b",
   "metadata": {},
   "outputs": [],
   "source": [
    "# hist plot \n",
    "import seaborn as sns\n",
    "import matplotlib.pyplot as plt\n",
    "data = sns.load_dataset(\"titanic\")\n",
    "# sns.histplot(data = data , x = \"age\" , hue = \"who\", kde = True)\n",
    "# plt.show()"
   ]
  },
  {
   "cell_type": "code",
   "execution_count": 17,
   "id": "27149633-6cca-4e3e-acee-8a86e6128ee8",
   "metadata": {},
   "outputs": [],
   "source": [
    "# scatter plot\n",
    "import matplotlib.pyplot as plt\n",
    "import  pandas as pd\n",
    "import seaborn as sns\n",
    "data = sns.load_dataset(\"tips\")\n",
    "# sns.scatterplot(data = data, x = \"total_bill\",y = \"tip\",hue = \"day\", palette = \"spring\", marker = \"D\",size = \"size\")\n",
    "# plt.legend(bbox_to_anchor = (0.1,0,1.2,1.2))\n",
    "# plt.show()"
   ]
  },
  {
   "cell_type": "code",
   "execution_count": 1,
   "id": "e2c16b6f-7626-4bf2-902c-945f61c44380",
   "metadata": {},
   "outputs": [],
   "source": [
    "# heatmap plot in matplotlib\n",
    "import pandas as pd\n",
    "import seaborn as sns\n",
    "import matplotlib.pyplot as plt\n",
    "# data = sns.load_dataset(\"tips\")\n",
    "# gp = data.groupby(\"day\").agg({\"tip\":\"mean\"})\n",
    "# # print(gp)\n",
    "# sns.heatmap(gp)\n",
    "# plt.show()\n",
    "# data = pd.read_excel(\"ESD.xlsx\")\n",
    "# gp = data.groupby(\"Job Title\").agg({\"Annual Salary\":\"mean\"})\n",
    "# sns.heatmap(gp)\n",
    "# plt.show()\n"
   ]
  },
  {
   "cell_type": "code",
   "execution_count": 6,
   "id": "d2599742-3132-44a2-bca1-a11094941c76",
   "metadata": {},
   "outputs": [],
   "source": [
    "# cat(category) plot\n",
    "import matplotlib.pyplot as plt\n",
    "import pandas as pd\n",
    "import seaborn as sns\n",
    "data = sns.load_dataset(\"tips\")\n",
    "# sns.catplot(data = data , y = \"tip\",x = \"day\",hue = \"sex\",kind = \"violin\")\n",
    "# plt.show()"
   ]
  },
  {
   "cell_type": "code",
   "execution_count": 11,
   "id": "0ef47b54-8b93-4840-ae0e-90e124184cd4",
   "metadata": {},
   "outputs": [],
   "source": [
    "# style and color plot\n",
    "import seaborn as sns\n",
    "import matplotlib.pyplot as plt\n",
    "data = sns.load_dataset(\"exercise\")\n",
    "# print(data)\n",
    "# sns.set_style(style = \"darkgrid\")\n",
    "# sns.palplot(sns.color_palette(\"spring\"))\n",
    "# sns.barplot(data = data, x = \"time\", y = \"pulse\")\n",
    "# plt.show()"
   ]
  },
  {
   "cell_type": "code",
   "execution_count": 17,
   "id": "b3db4470-376c-43d3-86b0-29f1f84d1857",
   "metadata": {},
   "outputs": [],
   "source": [
    "#multiple plot \n",
    "import matplotlib.pyplot as plt\n",
    "import seaborn as sns\n",
    "data = sns.load_dataset(\"tips\")\n",
    "# a = sns.FacetGrid(data, col =\"time\",height = 2)\n",
    "# a.map(sns.scatterplot,\"day\",\"tip\")\n",
    "# plt.show()"
   ]
  },
  {
   "cell_type": "code",
   "execution_count": 25,
   "id": "6f594446-7f39-48d4-9243-427ee8e0bff7",
   "metadata": {},
   "outputs": [],
   "source": [
    "# relational plot\n",
    "import matplotlib.pyplot as plt\n",
    "import seaborn as sns\n",
    "# data = sns.load_dataset(\"tips\")\n",
    "# sns.relplot(data = data, x = \"tip\",y = \"total_bill\",hue = \"sex\",col = \"day\",size = \"smoker\")\n",
    "# plt.show()"
   ]
  },
  {
   "cell_type": "code",
   "execution_count": 33,
   "id": "2add6ccd-4e37-4f01-80cd-98045cd3cf57",
   "metadata": {},
   "outputs": [],
   "source": [
    "# swarm plot\n",
    "import matplotlib.pyplot as plt\n",
    "import seaborn as sns\n",
    "data = sns.load_dataset(\"tips\")\n",
    "# sns.swarmplot(data = data,x = \"day\",y = \"total_bill\" , hue = \"sex\",dodge = True)\n",
    "# plt.show()"
   ]
  },
  {
   "cell_type": "code",
   "execution_count": 37,
   "id": "10cc054d-9c60-4938-b329-c03243fca152",
   "metadata": {},
   "outputs": [
    {
     "data": {
      "image/png": "[encoded data removed]",
      "text/plain": [
       "<Figure size 640x480 with 1 Axes>"
      ]
     },
     "metadata": {},
     "output_type": "display_data"
    }
   ],
   "source": [
    "# kde plot \n",
    "import matplotlib.pyplot as plt\n",
    "import seaborn as sns\n",
    "data = sns.load_dataset(\"tips\")\n",
    "# sns.kdeplot(data = data, x = \"total_bill\", hue = \"day\",multiple = \"fill\")\n",
    "# plt.show()"
   ]
  }
 ],
 "metadata": {
  "kernelspec": {
   "display_name": "Python 3 (ipykernel)",
   "language": "python",
   "name": "python3"
  },
  "language_info": {
   "codemirror_mode": {
    "name": "ipython",
    "version": 3
   },
   "file_extension": ".py",
   "mimetype": "text/x-python",
   "name": "python",
   "nbconvert_exporter": "python",
   "pygments_lexer": "ipython3",
   "version": "3.13.0"
  }
 },
 "nbformat": 4,
 "nbformat_minor": 5
}
